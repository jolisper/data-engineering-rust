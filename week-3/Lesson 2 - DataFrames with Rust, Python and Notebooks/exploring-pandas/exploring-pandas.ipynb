{
 "cells": [
  {
   "cell_type": "code",
   "execution_count": null,
   "metadata": {},
   "outputs": [],
   "source": [
    "%pip install pandas\n",
    "%pip install matplotlib\n",
    "%pip install sklearn"
   ]
  },
  {
   "cell_type": "markdown",
   "metadata": {},
   "source": [
    "# Make Fruit"
   ]
  },
  {
   "cell_type": "code",
   "execution_count": null,
   "metadata": {},
   "outputs": [],
   "source": [
    "import pandas as pd\n",
    "\n",
    "# Create a DataFrame with fruits prices\n",
    "fruits = pd.DataFrame({\n",
    "    'fruit': ['apple', 'banana', 'orange'] * 5,\n",
    "    'year': [2018, 2019, 2020, 2021, 2022] * 3,\n",
    "    'price': [1.5, 1.7, 1.2, 1.0, 1.6,\n",
    "              0.8, 0.7, 0.0, 0.6, 0.8,\n",
    "              2.0, 2.3, 1.9, 2.5, 2.3]\n",
    "})\n",
    "\n",
    "# Write DataFrame to CSV\n",
    "fruits.to_csv('fruits.csv', index=False)\n",
    "\n",
    "# Read the CSV back as a check\n",
    "print(pd.read_csv('fruits.csv'))"
   ]
  },
  {
   "cell_type": "markdown",
   "metadata": {},
   "source": [
    "# Process Fruits"
   ]
  },
  {
   "cell_type": "code",
   "execution_count": null,
   "metadata": {},
   "outputs": [],
   "source": [
    "import pandas as pd\n",
    "import matplotlib.pyplot as plt\n"
   ]
  },
  {
   "cell_type": "code",
   "execution_count": null,
   "metadata": {},
   "outputs": [],
   "source": [
    "# Load CSV dataset of fruit prices\n",
    "fruits = pd.read_csv('fruits.csv')\n",
    "\n",
    "print(fruits.describe())"
   ]
  },
  {
   "cell_type": "code",
   "execution_count": null,
   "metadata": {},
   "outputs": [],
   "source": [
    "# Group by fruit and plot mean prices\n",
    "fruit_means = fruits.groupby('fruit')['price'].mean()\n",
    "\n",
    "fruit_means.plot(kind='bar')\n",
    "plt.title('Average Fruit Prices')\n",
    "plt.ylabel('Price ($)')\n",
    "plt.show()"
   ]
  },
  {
   "cell_type": "code",
   "execution_count": null,
   "metadata": {},
   "outputs": [],
   "source": [
    "# Filter to only apples, sort by year\n",
    "apples = fruits[fruits['fruit'] == 'apple'].sort_values('year')"
   ]
  },
  {
   "cell_type": "code",
   "execution_count": null,
   "metadata": {},
   "outputs": [],
   "source": [
    "# Plot a line chart of apples prices over time\n",
    "apples.plot(x='year', y='price', kind='line')\n",
    "plt.title('Apples Price Over Time')\n",
    "plt.ylabel('Price ($)')\n",
    "plt.show()"
   ]
  },
  {
   "cell_type": "markdown",
   "metadata": {},
   "source": [
    "# Iris Dataset"
   ]
  },
  {
   "cell_type": "code",
   "execution_count": null,
   "metadata": {},
   "outputs": [],
   "source": [
    "import pandas as pd\n",
    "import matplotlib.pyplot as plt\n",
    "from sklearn.datasets import load_iris\n",
    "\n",
    "# Load the Iris dataset\n",
    "iris = load_iris()\n",
    "\n",
    "# Create a DataFrame from the Iris dataset\n",
    "iris_df = pd.DataFrame(data=iris.data, columns=iris.feature_names)\n",
    "\n",
    "# Add the target column\n",
    "iris_df['target'] = iris.target\n",
    "\n",
    "# Map target values to species names\n",
    "iris_df['species'] = iris_df['target'].map({0: 'setosa', 1: 'versicolor', 2: 'virginica'})\n",
    "\n",
    "# Plotting\n",
    "plt.figure(figsize=(10, 6))\n",
    "\n",
    "# Scatter plot for sepal length vs sepal width\n",
    "for species, color in zip(['setosa', 'versicolor', 'virginica'], ['r', 'g', 'b']):\n",
    "    species_data = iris_df[iris_df['species'] == species]\n",
    "    plt.scatter(species_data['sepal length (cm)'], species_data['sepal width (cm)'], label=species, c=color)\n",
    "\n",
    "plt.title('Sepal Length vs Sepal Width of Iris Species')\n",
    "plt.xlabel('Sepal Length (cm)')\n",
    "plt.ylabel('Sepal Width (cm)')\n",
    "plt.legend()\n",
    "plt.show()\n",
    "\n",
    "# Group by petal and petal length mean \n",
    "iris_petal_means = iris_df.groupby('species')['sepal length (cm)'].mean()\n",
    "\n",
    "iris_petal_means.plot(kind='bar')\n",
    "plt.title('Average Sepal Length')\n",
    "plt.ylabel('Sepal Length (cm)')\n",
    "plt.show()"
   ]
  }
 ],
 "metadata": {
  "kernelspec": {
   "display_name": "Python 3",
   "language": "python",
   "name": "python3"
  },
  "language_info": {
   "codemirror_mode": {
    "name": "ipython",
    "version": 3
   },
   "file_extension": ".py",
   "mimetype": "text/x-python",
   "name": "python",
   "nbconvert_exporter": "python",
   "pygments_lexer": "ipython3",
   "version": "3.9.2"
  }
 },
 "nbformat": 4,
 "nbformat_minor": 2
}
