{
 "cells": [
  {
   "cell_type": "markdown",
   "id": "be738fcb",
   "metadata": {},
   "source": [
    "# Test of Rust Notebook"
   ]
  },
  {
   "cell_type": "markdown",
   "id": "582e09d3",
   "metadata": {},
   "source": [
    "## Try implementing the evcxr_display method for a custom Rust struct"
   ]
  },
  {
   "cell_type": "code",
   "execution_count": 2,
   "id": "97c3c5c2",
   "metadata": {
    "vscode": {
     "languageId": "rust"
    }
   },
   "outputs": [
    {
     "data": {
      "text/html": [
       "<table><tr><td>1</td><td>2</td><td>3</td></tr><tr><td>4</td><td>5</td><td>6</td></tr><tr><td>7</td><td>8</td><td>9</td></tr></table>"
      ]
     },
     "execution_count": 2,
     "metadata": {},
     "output_type": "execute_result"
    }
   ],
   "source": [
    "use std::fmt::Debug;\n",
    "pub struct Matrix<T> {pub values: Vec<T>, pub row_size: usize}\n",
    "impl<T: Debug> Matrix<T> {\n",
    "    pub fn evcxr_display(&self) {\n",
    "        let mut html = String::new();\n",
    "        html.push_str(\"<table>\");\n",
    "        for r in 0..(self.values.len() / self.row_size) {\n",
    "            html.push_str(\"<tr>\");\n",
    "            for c in 0..self.row_size {\n",
    "                html.push_str(\"<td>\");\n",
    "                html.push_str(&format!(\"{:?}\", self.values[r * self.row_size + c]));\n",
    "                html.push_str(\"</td>\");\n",
    "            }\n",
    "            html.push_str(\"</tr>\");\n",
    "        }\n",
    "        html.push_str(\"</table>\");\n",
    "        println!(\"EVCXR_BEGIN_CONTENT text/html\\n{}\\nEVCXR_END_CONTENT\", html);\n",
    "    }\n",
    "}\n",
    "let m = Matrix {values: vec![1,2,3,4,5,6,7,8,9], row_size: 3};\n",
    "m"
   ]
  },
  {
   "cell_type": "markdown",
   "id": "6c8f2dcf",
   "metadata": {},
   "source": [
    "## Explore one of the integrated Rust libraries like Plotly or Plotters"
   ]
  },
  {
   "cell_type": "code",
   "execution_count": 3,
   "id": "91172611",
   "metadata": {
    "vscode": {
     "languageId": "rust"
    }
   },
   "outputs": [],
   "source": [
    ":dep plotly = {version = \"0.4.0\"}\n",
    "extern crate plotly;\n",
    "use plotly::{Plot, Scatter};\n",
    "use plotly::common::{Mode};\n",
    "use std::fs;"
   ]
  },
  {
   "cell_type": "code",
   "execution_count": 4,
   "id": "2a5b297d",
   "metadata": {
    "vscode": {
     "languageId": "rust"
    }
   },
   "outputs": [
    {
     "name": "stderr",
     "output_type": "stream",
     "text": [
      "The type of the variable m was redefined, so was lost.\n"
     ]
    }
   ],
   "source": [
    "let plotly_file = \"temp_plot.html\";\n",
    "\n",
    "let trace1 = Scatter::new(vec![1, 2, 3, 4], vec![10, 15, 13, 17])\n",
    "    .name(\"trace1\")\n",
    "    .mode(Mode::Markers);\n",
    "\n",
    "let trace2 = Scatter::new(vec![2, 3, 4, 5], vec![16, 5, 11, 9])\n",
    "    .name(\"trace2\")\n",
    "    .mode(Mode::Lines);\n",
    "\n",
    "let trace3 = Scatter::new(vec![1, 2, 3, 4], vec![12, 9, 15, 12]).name(\"trace3\");\n",
    "\n",
    "let mut plot = Plot::new();\n",
    "\n",
    "plot.add_trace(trace1);\n",
    "plot.add_trace(trace2);\n",
    "plot.add_trace(trace3);\n",
    "\n",
    "plot.to_html(plotly_file);\n",
    "let plotly_contents = fs::read_to_string(plotly_file).unwrap();\n",
    "println!(\"EVCXR_BEGIN_CONTENT text/html\\n{}\\nEVCXR_END_CONTENT\", plotly_contents);\n",
    "fs::remove_file(plotly_file)?;"
   ]
  }
 ],
 "metadata": {
  "kernelspec": {
   "display_name": "Rust",
   "language": "rust",
   "name": "rust"
  },
  "language_info": {
   "codemirror_mode": "rust",
   "file_extension": ".rs",
   "mimetype": "text/rust",
   "name": "Rust",
   "pygment_lexer": "rust",
   "version": ""
  }
 },
 "nbformat": 4,
 "nbformat_minor": 5
}
